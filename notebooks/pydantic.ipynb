{
 "cells": [
  {
   "cell_type": "code",
   "execution_count": 2,
   "metadata": {},
   "outputs": [],
   "source": [
    "from __future__ import annotations\n",
    "from typing import Any\n",
    "from pydantic import BaseModel, Field\n",
    "from pydantic._internal._model_construction import ModelMetaclass\n",
    "from typing import Dict\n",
    "from uuid import uuid4\n",
    "\n",
    "class SignalDescriptor:\n",
    "    \"\"\"Return `$Model.field` on the class, real value on an instance.\"\"\"\n",
    "\n",
    "    def __init__(self, field_name: str) -> None:\n",
    "        self.field_name = field_name\n",
    "\n",
    "    def __get__(self, instance, owner):\n",
    "        #  class access  →  owner is the model class, instance is None\n",
    "        if instance is None:\n",
    "            config = getattr(owner, \"model_config\", {})\n",
    "            ns = config.get(\"namespace\", owner.__name__)\n",
    "            use_ns = config.get(\"use_namespace\", False)\n",
    "            return f\"${ns}.{self.field_name}\" if use_ns else f\"${self.field_name}\"\n",
    "        return instance.__dict__[self.field_name]        \n",
    "\n",
    "        #  instance access  →  behave like a normal attribute\n",
    "\n",
    "class SignalModelMeta(ModelMetaclass):\n",
    "    def __init__(cls, name, bases, ns, **kw):\n",
    "        super().__init__(name, bases, ns, **kw)\n",
    "\n",
    "        for field_name in cls.model_fields:\n",
    "            setattr(cls, f\"{field_name}_signal\", SignalDescriptor(field_name))\n",
    "        for field_name in cls.model_computed_fields:\n",
    "            setattr(cls, f\"{field_name}_signal\", SignalDescriptor(field_name))\n",
    "\n",
    "class User(BaseModel, metaclass=SignalModelMeta):\n",
    "    # id: str = Field(default_factory=lambda: str(uuid4()), primary_key=True)\n",
    "    id: str\n",
    "\n",
    "    def __init__(self, **kwargs):\n",
    "        super().__init__(**kwargs)\n",
    "        # self.id = 123\n",
    "\n",
    "    model_config = {\n",
    "        \"namespace\": \"User\",\n",
    "        \"use_namespace\": True,\n",
    "    }\n",
    "\n",
    "    @property\n",
    "    def signals(self) -> Dict[str, Any]:\n",
    "        return self.model_dump()\n",
    "    \n",
    "    @property\n",
    "    def signals_ns(self) -> Dict[str, Any]:\n",
    "        \"namespaced signals\"\n",
    "        return {self.__class__.__name__:self.signals}\n",
    "    \n",
    "    @property\n",
    "    def scope(self) -> str:\n",
    "        \"scope as string\"\n",
    "        return self.__class__._get_config_value(\"scope\", \"Unnamed\")\n",
    "    \n",
    "    @classmethod\n",
    "    def _get_config_value(cls, key: str, default=None):\n",
    "        \"\"\"Get configuration value from model_config.\"\"\"\n",
    "        return cls.model_config.get(f\"stm_{key}\", default)\n",
    "    \n",
    "    def signal(self, field: str) -> Any:\n",
    "        if field in self.signals.keys():\n",
    "            return f\"${self.__class__.__name__}.{field}\"\n",
    "        else:\n",
    "            raise ValueError(f\"Field {field} not found in {self.__class__.__name__}\")\n",
    "\n",
    "\n",
    "f = User.model_fields['id'].get_default(call_default_factory=True)\n"
   ]
  },
  {
   "cell_type": "code",
   "execution_count": 3,
   "metadata": {},
   "outputs": [
    {
     "data": {
      "text/plain": [
       "'$full_name'"
      ]
     },
     "execution_count": 3,
     "metadata": {},
     "output_type": "execute_result"
    }
   ],
   "source": [
    "from pydantic import computed_field\n",
    "from pydantic.dataclasses import dataclass\n",
    "\n",
    "class User(BaseModel, metaclass=SignalModelMeta):\n",
    "    id: str = Field(default_factory=lambda: str(uuid4()), primary_key=True)\n",
    "    name: str\n",
    "    age: int\n",
    "\n",
    "class Person(BaseModel, metaclass=SignalModelMeta):\n",
    "    model_config = {\n",
    "        \"namespace\": \"Person\"\n",
    "    }\n",
    "    name: str\n",
    "    lastName: str\n",
    "\n",
    "    @computed_field\n",
    "    def full_name(self) -> str:\n",
    "        return f\"{self.name} {self.lastName}\"\n",
    "    \n",
    "\n",
    "person = Person(name=\"John\", lastName=\"Doe\")\n",
    "Person.model_fields\n",
    "Person.full_name_signal"
   ]
  },
  {
   "cell_type": "code",
   "execution_count": 4,
   "metadata": {},
   "outputs": [
    {
     "data": {
      "text/plain": [
       "'$full_name'"
      ]
     },
     "execution_count": 4,
     "metadata": {},
     "output_type": "execute_result"
    }
   ],
   "source": [
    "Person.full_name_signal"
   ]
  },
  {
   "cell_type": "code",
   "execution_count": 5,
   "metadata": {},
   "outputs": [],
   "source": [
    "from pydantic import BaseModel, Field\n",
    "from pydantic.dataclasses import dataclass\n",
    "from typing import get_type_hints, get_origin, get_args\n",
    "import copy\n",
    "\n",
    "def model2dataclass(model_cls: type[BaseModel]) -> type[dataclass]:\n",
    "    \"\"\"Convert BaseModel to dataclass preserving validators and complex types\"\"\"\n",
    "    \n",
    "    # Get model configuration\n",
    "    config = getattr(model_cls, 'model_config', {})\n",
    "    \n",
    "    # Extract field information\n",
    "    fields = model_cls.model_fields\n",
    "    annotations = get_type_hints(model_cls)\n",
    "    \n",
    "    # Prepare class attributes\n",
    "    class_attrs = {'__annotations__': annotations.copy()}\n",
    "    \n",
    "    # Process each field\n",
    "    for field_name, field_info in fields.items():\n",
    "        if field_info.default is not ...:\n",
    "            class_attrs[field_name] = field_info.default\n",
    "        elif field_info.default_factory is not None:\n",
    "            class_attrs[field_name] = Field(default_factory=field_info.default_factory)\n",
    "        \n",
    "        # Preserve field constraints and metadata\n",
    "        if hasattr(field_info, 'constraints') or hasattr(field_info, 'metadata'):\n",
    "            field_copy = copy.deepcopy(field_info)\n",
    "            class_attrs[field_name] = field_copy\n",
    "    \n",
    "    # Create the dataclass with config\n",
    "    DataClass = type(f\"{model_cls.__name__}DataClass\", (), class_attrs)\n",
    "    \n",
    "    # Apply dataclass decorator with config\n",
    "    return dataclass(DataClass, config=config)"
   ]
  },
  {
   "cell_type": "code",
   "execution_count": 6,
   "metadata": {},
   "outputs": [
    {
     "data": {
      "text/plain": [
       "{'SQLModel': __main__.SQLModelDataClass,\n",
       " 'User': __main__.UserDataClass,\n",
       " 'Person': __main__.PersonDataClass}"
      ]
     },
     "execution_count": 6,
     "metadata": {},
     "output_type": "execute_result"
    }
   ],
   "source": [
    "UserDS = model2dataclass(User)\n",
    "\n",
    "user1_ds = UserDS(name=\"John\", age=30)\n",
    "user1_ds.name\n",
    "type(user1_ds)\n",
    "\n",
    "BaseModel.__subclasses__()\n",
    "\n",
    "ds_classes = {ds.__name__: model2dataclass(ds) for ds in BaseModel.__subclasses__()}\n",
    "ds_classes"
   ]
  },
  {
   "cell_type": "code",
   "execution_count": 7,
   "metadata": {},
   "outputs": [
    {
     "data": {
      "text/plain": [
       "'{\"name\":\"John\",\"email\":\"john@example.com\",\"id\":\"35aa7b58-3c81-4085-a8cf-d5a956b4867d\",\"created_at\":\"2025-06-20T09:49:04.797230+00:00\",\"updated_at\":\"2025-06-20T09:49:04.797243+00:00\"}'"
      ]
     },
     "execution_count": 7,
     "metadata": {},
     "output_type": "execute_result"
    }
   ],
   "source": [
    "from pydantic import BaseModel, ConfigDict\n",
    "from sqlmodel import SQLModel, Field\n",
    "from typing import Optional\n",
    "from datetime import datetime\n",
    "from FastSQLModel.db import BaseTable\n",
    "\n",
    "class EntityConfig(ConfigDict):\n",
    "    \"\"\"Configuration for all entity classes.\"\"\"\n",
    "    namespace: str | None\n",
    "    use_namespace: bool\n",
    "    auto_persist: bool\n",
    "    persistence_backend: str\n",
    "    sync_with_client: bool\n",
    "    ttl: Optional[int]\n",
    "\n",
    "class Entity(BaseModel):\n",
    "    \"\"\"Base class for all entity classes.\"\"\"\n",
    "    model_config = EntityConfig(arbitrary_types_allowed=True,\n",
    "                                use_namespace=True,\n",
    "                                auto_persist=True,\n",
    "                                persistence_backend=\"MemoryRepo()\",\n",
    "                                sync_with_client=True,\n",
    "                                json_encoders={datetime: lambda dt: dt.isoformat()})\n",
    "    \n",
    "    @classmethod\n",
    "    def __pydantic_init_subclass__(cls, **kwargs: Any) -> None:\n",
    "        super().__pydantic_init_subclass__(**kwargs)\n",
    "        \n",
    "        # Create signal descriptors for all model fields\n",
    "        for field_name in cls.model_fields:\n",
    "            setattr(cls, f\"{field_name}_signal\", SignalDescriptor(field_name))\n",
    "        for field_name in cls.model_computed_fields:\n",
    "            setattr(cls, f\"{field_name}_signal\", SignalDescriptor(field_name))\n",
    "\n",
    "# Step 1: Define your existing Pydantic model\n",
    "class UserBase(Entity, BaseTable, table=True):\n",
    "    __table_args__ = {'extend_existing': True}\n",
    "    name: str\n",
    "    email: str\n",
    "\n",
    "user = UserBase(name=\"John\", email=\"john@example.com\")\n",
    "user.model_dump_json()"
   ]
  },
  {
   "cell_type": "code",
   "execution_count": 61,
   "metadata": {},
   "outputs": [
    {
     "data": {
      "text/markdown": [
       "```html\n",
       "<div>\n",
       "<span>id: 33412279-2189-4143-b171-89425da4fffd</span><span>to: nikola@test.com</span><span>subject: Test</span><span>body: Test</span><span>ps: All good here!</span></div>\n",
       "\n",
       "```"
      ],
      "text/plain": [
       "div((span(('id: 33412279-2189-4143-b171-89425da4fffd',),{}), span(('to: nikola@test.com',),{}), span(('subject: Test',),{}), span(('body: Test',),{}), span(('ps: All good here!',),{})),{})"
      ]
     },
     "execution_count": 61,
     "metadata": {},
     "output_type": "execute_result"
    }
   ],
   "source": [
    "from abc import ABC, abstractmethod\n",
    "from pydantic import BaseModel, Field\n",
    "import uuid\n",
    "from fasthtml.common import Div, Span, Html\n",
    "from IPython.display import IFrame \n",
    "\n",
    "class Renderable(BaseModel):\n",
    "    @abstractmethod\n",
    "    def render(self) -> str:\n",
    "        pass\n",
    "class Repo(BaseModel):\n",
    "    @abstractmethod\n",
    "    def save(self, data: dict) -> None:\n",
    "        pass\n",
    "    \n",
    "    @abstractmethod\n",
    "    def load(self, id: str) -> dict:\n",
    "        pass\n",
    "\n",
    "class Stringy(Renderable):\n",
    "    def render(self, content: str) -> str:\n",
    "        return f\"Stringy: {content}\"\n",
    "\n",
    "class Htmly(Renderable):\n",
    "    def render(self, content: BaseModel) -> str:\n",
    "        return Div(*[Span(f\"{k}: {v}\") for k, v in content.model_dump().items()])\n",
    "\n",
    "class MemoryRepo(Repo):\n",
    "    data: dict = {}\n",
    "\n",
    "    def save(self, data: dict) -> None:\n",
    "        self.data[data[\"id\"]] = data\n",
    "    \n",
    "    def load(self, id: str) -> dict:\n",
    "        return self.data[id]\n",
    "\n",
    "class DefaultConfig:\n",
    "    arbitrary_types_allowed = True\n",
    "    renderable: Renderable = Stringy()\n",
    "    repo: Repo = MemoryRepo()\n",
    "    extra='allow'\n",
    "    \n",
    "    def __init__(self, renderable: Renderable = Stringy(), repo: Repo = MemoryRepo()):\n",
    "        self.renderable = renderable\n",
    "        self.repo = repo\n",
    "\n",
    "\n",
    "\n",
    "class Composable(BaseModel):\n",
    "    id: str = Field(default_factory=lambda: str(uuid.uuid4()))\n",
    "\n",
    "    class Config(DefaultConfig):\n",
    "        pass\n",
    "    \n",
    "    def render(self) -> str:\n",
    "        return self.Config.renderable.render(self)\n",
    "    \n",
    "    def save(self) -> None:\n",
    "        self.Config.repo.save(self.model_dump())\n",
    "    \n",
    "    def load(self) -> None:\n",
    "        return self.Config.repo.load(self.model_dump()[\"id\"])\n",
    "    \n",
    "    def __str__(self) -> str:\n",
    "        return self.render()\n",
    "\n",
    "class Email(Composable):\n",
    "    to: str\n",
    "    subject: str\n",
    "    body: str\n",
    "\n",
    "    class Config(DefaultConfig):\n",
    "        renderable = Htmly()\n",
    "\n",
    "email = Email(to=\"nikola@test.com\", subject=\"Test\", body=\"Test\", ps=\"All good here!\")\n",
    "# email.save()\n",
    "# email.load(email.id)\n",
    "email.render()"
   ]
  }
 ],
 "metadata": {
  "kernelspec": {
   "display_name": ".venv",
   "language": "python",
   "name": "python3"
  },
  "language_info": {
   "codemirror_mode": {
    "name": "ipython",
    "version": 3
   },
   "file_extension": ".py",
   "mimetype": "text/x-python",
   "name": "python",
   "nbconvert_exporter": "python",
   "pygments_lexer": "ipython3",
   "version": "3.12.9"
  }
 },
 "nbformat": 4,
 "nbformat_minor": 2
}
