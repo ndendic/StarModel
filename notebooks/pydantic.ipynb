{
 "cells": [
  {
   "cell_type": "code",
   "execution_count": 17,
   "metadata": {},
   "outputs": [],
   "source": [
    "from __future__ import annotations\n",
    "from typing import Any\n",
    "from pydantic import BaseModel, Field\n",
    "from pydantic._internal._model_construction import ModelMetaclass\n",
    "from typing import Dict\n",
    "from uuid import uuid4\n",
    "\n",
    "class SignalDescriptor:\n",
    "    \"\"\"Return `$Model.field` on the class, real value on an instance.\"\"\"\n",
    "\n",
    "    def __init__(self, field_name: str) -> None:\n",
    "        self.field_name = field_name\n",
    "\n",
    "    def __get__(self, instance, owner):\n",
    "        #  class access  →  owner is the model class, instance is None\n",
    "        if instance is None:\n",
    "            config = getattr(owner, \"model_config\", {})\n",
    "            ns = config.get(\"namespace\", owner.__name__)\n",
    "            use_ns = config.get(\"use_namespace\", False)\n",
    "            return f\"${ns}.{self.field_name}\" if use_ns else f\"${self.field_name}\"\n",
    "        return instance.__dict__[self.field_name]        \n",
    "\n",
    "        #  instance access  →  behave like a normal attribute\n",
    "\n",
    "class SignalModelMeta(ModelMetaclass):\n",
    "    def __init__(cls, name, bases, ns, **kw):\n",
    "        super().__init__(name, bases, ns, **kw)\n",
    "\n",
    "        for field_name in cls.model_fields:\n",
    "            setattr(cls, f\"{field_name}_signal\", SignalDescriptor(field_name))\n",
    "        for field_name in cls.model_computed_fields:\n",
    "            setattr(cls, f\"{field_name}_signal\", SignalDescriptor(field_name))\n",
    "\n",
    "class User(BaseModel, metaclass=SignalModelMeta):\n",
    "    # id: str = Field(default_factory=lambda: str(uuid4()), primary_key=True)\n",
    "    id: str\n",
    "\n",
    "    def __init__(self, **kwargs):\n",
    "        super().__init__(**kwargs)\n",
    "        # self.id = 123\n",
    "\n",
    "    model_config = {\n",
    "        \"namespace\": \"User\",\n",
    "        \"use_namespace\": True,\n",
    "    }\n",
    "\n",
    "    @property\n",
    "    def signals(self) -> Dict[str, Any]:\n",
    "        return self.model_dump()\n",
    "    \n",
    "    @property\n",
    "    def signals_ns(self) -> Dict[str, Any]:\n",
    "        \"namespaced signals\"\n",
    "        return {self.__class__.__name__:self.signals}\n",
    "    \n",
    "    @property\n",
    "    def scope(self) -> str:\n",
    "        \"scope as string\"\n",
    "        return self.__class__._get_config_value(\"scope\", \"Unnamed\")\n",
    "    \n",
    "    @classmethod\n",
    "    def _get_config_value(cls, key: str, default=None):\n",
    "        \"\"\"Get configuration value from model_config.\"\"\"\n",
    "        return cls.model_config.get(f\"stm_{key}\", default)\n",
    "    \n",
    "    def signal(self, field: str) -> Any:\n",
    "        if field in self.signals.keys():\n",
    "            return f\"${self.__class__.__name__}.{field}\"\n",
    "        else:\n",
    "            raise ValueError(f\"Field {field} not found in {self.__class__.__name__}\")\n",
    "\n",
    "\n",
    "f = User.model_fields['id'].get_default(call_default_factory=True)\n"
   ]
  },
  {
   "cell_type": "code",
   "execution_count": 18,
   "metadata": {},
   "outputs": [
    {
     "data": {
      "text/plain": [
       "'$full_name'"
      ]
     },
     "execution_count": 18,
     "metadata": {},
     "output_type": "execute_result"
    }
   ],
   "source": [
    "from pydantic import computed_field\n",
    "from pydantic.dataclasses import dataclass\n",
    "\n",
    "class User(BaseModel, metaclass=SignalModelMeta):\n",
    "    id: str = Field(default_factory=lambda: str(uuid4()), primary_key=True)\n",
    "    name: str\n",
    "    age: int\n",
    "\n",
    "class Person(BaseModel, metaclass=SignalModelMeta):\n",
    "    model_config = {\n",
    "        \"namespace\": \"Person\"\n",
    "    }\n",
    "    name: str\n",
    "    lastName: str\n",
    "\n",
    "    @computed_field\n",
    "    def full_name(self) -> str:\n",
    "        return f\"{self.name} {self.lastName}\"\n",
    "    \n",
    "\n",
    "person = Person(name=\"John\", lastName=\"Doe\")\n",
    "Person.model_fields\n",
    "Person.full_name_signal"
   ]
  },
  {
   "cell_type": "code",
   "execution_count": 19,
   "metadata": {},
   "outputs": [
    {
     "data": {
      "text/plain": [
       "'$full_name'"
      ]
     },
     "execution_count": 19,
     "metadata": {},
     "output_type": "execute_result"
    }
   ],
   "source": [
    "Person.full_name_signal"
   ]
  },
  {
   "cell_type": "code",
   "execution_count": 20,
   "metadata": {},
   "outputs": [],
   "source": [
    "from pydantic import BaseModel, Field\n",
    "from pydantic.dataclasses import dataclass\n",
    "from typing import get_type_hints, get_origin, get_args\n",
    "import copy\n",
    "\n",
    "def model2dataclass(model_cls: type[BaseModel]) -> type[dataclass]:\n",
    "    \"\"\"Convert BaseModel to dataclass preserving validators and complex types\"\"\"\n",
    "    \n",
    "    # Get model configuration\n",
    "    config = getattr(model_cls, 'model_config', {})\n",
    "    \n",
    "    # Extract field information\n",
    "    fields = model_cls.model_fields\n",
    "    annotations = get_type_hints(model_cls)\n",
    "    \n",
    "    # Prepare class attributes\n",
    "    class_attrs = {'__annotations__': annotations.copy()}\n",
    "    \n",
    "    # Process each field\n",
    "    for field_name, field_info in fields.items():\n",
    "        if field_info.default is not ...:\n",
    "            class_attrs[field_name] = field_info.default\n",
    "        elif field_info.default_factory is not None:\n",
    "            class_attrs[field_name] = Field(default_factory=field_info.default_factory)\n",
    "        \n",
    "        # Preserve field constraints and metadata\n",
    "        if hasattr(field_info, 'constraints') or hasattr(field_info, 'metadata'):\n",
    "            field_copy = copy.deepcopy(field_info)\n",
    "            class_attrs[field_name] = field_copy\n",
    "    \n",
    "    # Create the dataclass with config\n",
    "    DataClass = type(f\"{model_cls.__name__}DataClass\", (), class_attrs)\n",
    "    \n",
    "    # Apply dataclass decorator with config\n",
    "    return dataclass(DataClass, config=config)"
   ]
  },
  {
   "cell_type": "code",
   "execution_count": 21,
   "metadata": {},
   "outputs": [
    {
     "data": {
      "text/plain": [
       "{'Entity': __main__.EntityDataClass,\n",
       " 'User': __main__.UserDataClass,\n",
       " 'Person': __main__.PersonDataClass}"
      ]
     },
     "execution_count": 21,
     "metadata": {},
     "output_type": "execute_result"
    }
   ],
   "source": [
    "UserDS = model2dataclass(User)\n",
    "\n",
    "user1_ds = UserDS(name=\"John\", age=30)\n",
    "user1_ds.name\n",
    "type(user1_ds)\n",
    "\n",
    "BaseModel.__subclasses__()\n",
    "\n",
    "ds_classes = {ds.__name__: model2dataclass(ds) for ds in BaseModel.__subclasses__()}\n",
    "ds_classes"
   ]
  },
  {
   "cell_type": "code",
   "execution_count": 34,
   "metadata": {},
   "outputs": [
    {
     "ename": "ValidationError",
     "evalue": "5 validation errors for EntityConfig\nuse_namespace\n  Field required [type=missing, input_value={'arbitrary_types_allowed...'namespace': 'MyEntity'}, input_type=dict]\n    For further information visit https://errors.pydantic.dev/2.11/v/missing\nstore\n  Field required [type=missing, input_value={'arbitrary_types_allowed...'namespace': 'MyEntity'}, input_type=dict]\n    For further information visit https://errors.pydantic.dev/2.11/v/missing\nauto_persist\n  Field required [type=missing, input_value={'arbitrary_types_allowed...'namespace': 'MyEntity'}, input_type=dict]\n    For further information visit https://errors.pydantic.dev/2.11/v/missing\npersistence_backend\n  Field required [type=missing, input_value={'arbitrary_types_allowed...'namespace': 'MyEntity'}, input_type=dict]\n    For further information visit https://errors.pydantic.dev/2.11/v/missing\nsync_with_client\n  Field required [type=missing, input_value={'arbitrary_types_allowed...'namespace': 'MyEntity'}, input_type=dict]\n    For further information visit https://errors.pydantic.dev/2.11/v/missing",
     "output_type": "error",
     "traceback": [
      "\u001b[31m---------------------------------------------------------------------------\u001b[39m",
      "\u001b[31mValidationError\u001b[39m                           Traceback (most recent call last)",
      "\u001b[36mCell\u001b[39m\u001b[36m \u001b[39m\u001b[32mIn[34]\u001b[39m\u001b[32m, line 23\u001b[39m\n\u001b[32m     20\u001b[39m \u001b[38;5;250m        \u001b[39m\u001b[33;03m\"\"\"Get configuration value from model_config.\"\"\"\u001b[39;00m\n\u001b[32m     21\u001b[39m         \u001b[38;5;28;01mreturn\u001b[39;00m \u001b[38;5;28mcls\u001b[39m.model_config.get(key, default)\n\u001b[32m---> \u001b[39m\u001b[32m23\u001b[39m cnf = \u001b[43mEntityConfig\u001b[49m\u001b[43m(\u001b[49m\u001b[43marbitrary_types_allowed\u001b[49m\u001b[43m=\u001b[49m\u001b[38;5;28;43;01mTrue\u001b[39;49;00m\u001b[43m,\u001b[49m\u001b[43m \u001b[49m\u001b[43mnamespace\u001b[49m\u001b[43m=\u001b[49m\u001b[33;43m\"\u001b[39;49m\u001b[33;43mMyEntity\u001b[39;49m\u001b[33;43m\"\u001b[39;49m\u001b[43m)\u001b[49m\n\u001b[32m     24\u001b[39m cnf.model_dump()\n",
      "\u001b[36mFile \u001b[39m\u001b[32m~/WebDev/StarModel/.venv/lib/python3.12/site-packages/pydantic/main.py:253\u001b[39m, in \u001b[36mBaseModel.__init__\u001b[39m\u001b[34m(self, **data)\u001b[39m\n\u001b[32m    251\u001b[39m \u001b[38;5;66;03m# `__tracebackhide__` tells pytest and some other tools to omit this function from tracebacks\u001b[39;00m\n\u001b[32m    252\u001b[39m __tracebackhide__ = \u001b[38;5;28;01mTrue\u001b[39;00m\n\u001b[32m--> \u001b[39m\u001b[32m253\u001b[39m validated_self = \u001b[38;5;28;43mself\u001b[39;49m\u001b[43m.\u001b[49m\u001b[43m__pydantic_validator__\u001b[49m\u001b[43m.\u001b[49m\u001b[43mvalidate_python\u001b[49m\u001b[43m(\u001b[49m\u001b[43mdata\u001b[49m\u001b[43m,\u001b[49m\u001b[43m \u001b[49m\u001b[43mself_instance\u001b[49m\u001b[43m=\u001b[49m\u001b[38;5;28;43mself\u001b[39;49m\u001b[43m)\u001b[49m\n\u001b[32m    254\u001b[39m \u001b[38;5;28;01mif\u001b[39;00m \u001b[38;5;28mself\u001b[39m \u001b[38;5;129;01mis\u001b[39;00m \u001b[38;5;129;01mnot\u001b[39;00m validated_self:\n\u001b[32m    255\u001b[39m     warnings.warn(\n\u001b[32m    256\u001b[39m         \u001b[33m'\u001b[39m\u001b[33mA custom validator is returning a value other than `self`.\u001b[39m\u001b[38;5;130;01m\\n\u001b[39;00m\u001b[33m'\u001b[39m\n\u001b[32m    257\u001b[39m         \u001b[33m\"\u001b[39m\u001b[33mReturning anything other than `self` from a top level model validator isn\u001b[39m\u001b[33m'\u001b[39m\u001b[33mt supported when validating via `__init__`.\u001b[39m\u001b[38;5;130;01m\\n\u001b[39;00m\u001b[33m\"\u001b[39m\n\u001b[32m    258\u001b[39m         \u001b[33m'\u001b[39m\u001b[33mSee the `model_validator` docs (https://docs.pydantic.dev/latest/concepts/validators/#model-validators) for more details.\u001b[39m\u001b[33m'\u001b[39m,\n\u001b[32m    259\u001b[39m         stacklevel=\u001b[32m2\u001b[39m,\n\u001b[32m    260\u001b[39m     )\n",
      "\u001b[31mValidationError\u001b[39m: 5 validation errors for EntityConfig\nuse_namespace\n  Field required [type=missing, input_value={'arbitrary_types_allowed...'namespace': 'MyEntity'}, input_type=dict]\n    For further information visit https://errors.pydantic.dev/2.11/v/missing\nstore\n  Field required [type=missing, input_value={'arbitrary_types_allowed...'namespace': 'MyEntity'}, input_type=dict]\n    For further information visit https://errors.pydantic.dev/2.11/v/missing\nauto_persist\n  Field required [type=missing, input_value={'arbitrary_types_allowed...'namespace': 'MyEntity'}, input_type=dict]\n    For further information visit https://errors.pydantic.dev/2.11/v/missing\npersistence_backend\n  Field required [type=missing, input_value={'arbitrary_types_allowed...'namespace': 'MyEntity'}, input_type=dict]\n    For further information visit https://errors.pydantic.dev/2.11/v/missing\nsync_with_client\n  Field required [type=missing, input_value={'arbitrary_types_allowed...'namespace': 'MyEntity'}, input_type=dict]\n    For further information visit https://errors.pydantic.dev/2.11/v/missing"
     ]
    }
   ],
   "source": [
    "from pydantic import BaseModel, Field, ConfigDict\n",
    "\n",
    "class EntityConfig(ConfigDict):\n",
    "    \"\"\"Configuration for all entity classes.\"\"\"\n",
    "    namespace: str | None\n",
    "    use_namespace: bool\n",
    "    store: str\n",
    "    auto_persist: bool\n",
    "    persistence_backend: str\n",
    "    sync_with_client: bool\n",
    "\n",
    "\n",
    "class Entity(BaseModel):\n",
    "    # model_config = EntityConfig().model_dump()\n",
    "\n",
    "    id: str = Field(primary_key=True)\n",
    "\n",
    "    @classmethod\n",
    "    def _get_config_value(cls, key: str, default=None):\n",
    "        \"\"\"Get configuration value from model_config.\"\"\"\n",
    "        return cls.model_config.get(key, default)\n",
    "    \n",
    "cnf = EntityConfig(arbitrary_types_allowed=True, namespace=\"MyEntity\")\n",
    "cnf.model_dump()\n",
    "    "
   ]
  }
 ],
 "metadata": {
  "kernelspec": {
   "display_name": ".venv",
   "language": "python",
   "name": "python3"
  },
  "language_info": {
   "codemirror_mode": {
    "name": "ipython",
    "version": 3
   },
   "file_extension": ".py",
   "mimetype": "text/x-python",
   "name": "python",
   "nbconvert_exporter": "python",
   "pygments_lexer": "ipython3",
   "version": "3.12.9"
  }
 },
 "nbformat": 4,
 "nbformat_minor": 2
}
