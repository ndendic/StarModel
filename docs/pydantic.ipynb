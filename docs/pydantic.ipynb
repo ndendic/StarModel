{
 "cells": [
  {
   "cell_type": "code",
   "execution_count": 15,
   "metadata": {},
   "outputs": [
    {
     "name": "stdout",
     "output_type": "stream",
     "text": [
      "{'namespace': 'User', 'use_namespace': True}\n"
     ]
    },
    {
     "data": {
      "text/plain": [
       "'$User.id'"
      ]
     },
     "execution_count": 15,
     "metadata": {},
     "output_type": "execute_result"
    }
   ],
   "source": [
    "from __future__ import annotations\n",
    "from typing import Any\n",
    "from pydantic import BaseModel\n",
    "from pydantic._internal._model_construction import ModelMetaclass\n",
    "from typing import Dict\n",
    "\n",
    "class SignalDescriptor:\n",
    "    \"\"\"Return `$Model.field` on the class, real value on an instance.\"\"\"\n",
    "\n",
    "    def __init__(self, field_name: str) -> None:\n",
    "        self.field_name = field_name\n",
    "\n",
    "    def __get__(self, instance, owner):\n",
    "        #  class access  →  owner is the model class, instance is None\n",
    "        if instance is None:\n",
    "            config = getattr(owner, \"model_config\", {})\n",
    "            print(config)\n",
    "            ns = config.get(\"namespace\", owner.__name__)\n",
    "            use_ns = config.get(\"use_namespace\", False)\n",
    "            return f\"${ns}.{self.field_name}\" if use_ns else f\"${self.field_name}\"\n",
    "        return instance.__dict__[self.field_name]        \n",
    "\n",
    "        #  instance access  →  behave like a normal attribute\n",
    "\n",
    "class SignalModelMeta(ModelMetaclass):\n",
    "    def __init__(cls, name, bases, ns, **kw):\n",
    "        super().__init__(name, bases, ns, **kw)\n",
    "\n",
    "        # For each declared field, replace the stub Pydantic left in the\n",
    "        # class __dict__ with our custom descriptor\n",
    "        for field_name in cls.model_fields:\n",
    "            setattr(cls, field_name, SignalDescriptor(field_name))\n",
    "            setattr(cls, f\"{field_name}_signal\", SignalDescriptor(field_name))\n",
    "\n",
    "class User(BaseModel, metaclass=SignalModelMeta):\n",
    "    id: int\n",
    "    name: str\n",
    "    age: int\n",
    "\n",
    "    model_config = {\n",
    "        \"namespace\": \"User\",\n",
    "        \"use_namespace\": True,\n",
    "    }\n",
    "\n",
    "    @property\n",
    "    def signals(self) -> Dict[str, Any]:\n",
    "        return self.model_dump()\n",
    "    \n",
    "    @property\n",
    "    def signals_ns(self) -> Dict[str, Any]:\n",
    "        \"namespaced signals\"\n",
    "        return {self.__class__.__name__:self.signals}\n",
    "    \n",
    "    @property\n",
    "    def scope(self) -> str:\n",
    "        \"scope as string\"\n",
    "        return self.__class__._get_config_value(\"scope\", \"Unnamed\")\n",
    "    \n",
    "    @classmethod\n",
    "    def _get_config_value(cls, key: str, default=None):\n",
    "        \"\"\"Get configuration value from model_config.\"\"\"\n",
    "        return cls.model_config.get(f\"faststate_{key}\", default)\n",
    "    \n",
    "    def signal(self, field: str) -> Any:\n",
    "        if field in self.signals.keys():\n",
    "            return f\"${self.__class__.__name__}.{field}\"\n",
    "        else:\n",
    "            raise ValueError(f\"Field {field} not found in {self.__class__.__name__}\")\n",
    "\n",
    "user = User(id=1, name=\"John\", age=30)\n",
    "user.signals_ns\n",
    "user.signals\n",
    "user.signal(\"id\")\n",
    "\n",
    "user.model_dump()\n",
    "\n",
    "User.id_signal"
   ]
  },
  {
   "cell_type": "code",
   "execution_count": 18,
   "metadata": {},
   "outputs": [
    {
     "data": {
      "text/plain": [
       "{'User': {'id': 1, 'name': 'John', 'age': 30}}"
      ]
     },
     "execution_count": 18,
     "metadata": {},
     "output_type": "execute_result"
    }
   ],
   "source": [
    "user.signals_ns"
   ]
  }
 ],
 "metadata": {
  "kernelspec": {
   "display_name": ".venv (3.12.9)",
   "language": "python",
   "name": "python3"
  },
  "language_info": {
   "codemirror_mode": {
    "name": "ipython",
    "version": 3
   },
   "file_extension": ".py",
   "mimetype": "text/x-python",
   "name": "python",
   "nbconvert_exporter": "python",
   "pygments_lexer": "ipython3",
   "version": "3.12.9"
  }
 },
 "nbformat": 4,
 "nbformat_minor": 2
}
